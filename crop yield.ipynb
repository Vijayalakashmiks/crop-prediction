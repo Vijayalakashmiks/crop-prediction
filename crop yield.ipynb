{
 "cells": [
  {
   "cell_type": "code",
   "execution_count": null,
   "id": "a1213a95-1d5d-4b5c-867e-4413d2977ece",
   "metadata": {},
   "outputs": [
    {
     "name": "stdout",
     "output_type": "stream",
     "text": [
      "  Region Soil_Type     Crop  Rainfall_mm  Temperature_Celsius  \\\n",
      "0   West     Sandy   Cotton   897.077239            27.676966   \n",
      "1  South      Clay     Rice   992.673282            18.026142   \n",
      "2  North      Loam   Barley   147.998025            29.794042   \n",
      "3  North     Sandy  Soybean   986.866331            16.644190   \n",
      "4  South      Silt    Wheat   730.379174            31.620687   \n",
      "\n",
      "   Fertilizer_Used  Irrigation_Used Weather_Condition  Days_to_Harvest  \\\n",
      "0            False             True            Cloudy              122   \n",
      "1             True             True             Rainy              140   \n",
      "2            False            False             Sunny              106   \n",
      "3            False             True             Rainy              146   \n",
      "4             True             True            Cloudy              110   \n",
      "\n",
      "   Yield_tons_per_hectare  \n",
      "0                6.555816  \n",
      "1                8.527341  \n",
      "2                1.127443  \n",
      "3                6.517573  \n",
      "4                7.248251  \n"
     ]
    }
   ],
   "source": [
    "import numpy as np\n",
    "import pandas as pd\n",
    "from sklearn.model_selection import train_test_split\n",
    "from sklearn.ensemble import RandomForestRegressor\n",
    "from sklearn.metrics import mean_squared_error\n",
    "\n",
    "# Load your dataset\n",
    "data = pd.read_csv('archive.zip', compression='zip')\n",
    "\n",
    "# Preview the data\n",
    "print(data.head())\n",
    "\n",
    "# Rename columns to avoid spaces (if necessary)\n",
    "data.rename(columns=lambda x: x.strip().lower().replace(' ', '_'), inplace=True)\n",
    "\n",
    "# One-hot encode categorical columns ('region', 'soil_type', 'crop')\n",
    "data_encoded = pd.get_dummies(data, columns=['region', 'soil_type', 'crop'])\n",
    "\n",
    "# Define the input features and the target variable (crop yield)\n",
    "X = data_encoded[['rainfall_mm', 'temperature_celsius'] + [col for col in data_encoded.columns if col.startswith(('region_', 'soil_type_', 'crop_'))]]\n",
    "y = data_encoded['yield_tons_per_hectare']\n",
    "\n",
    "# Split the data into training and testing sets (80% train, 20% test)\n",
    "X_train, X_test, y_train, y_test = train_test_split(X, y, test_size=0.2, random_state=42)\n",
    "\n",
    "# Initialize the RandomForestRegressor model\n",
    "model = RandomForestRegressor(n_estimators=100, random_state=42)\n",
    "\n",
    "# Train the model\n",
    "model.fit(X_train, y_train)\n",
    "\n",
    "# Make predictions on the test set\n",
    "y_pred = model.predict(X_test)\n",
    "\n",
    "# Evaluate the model's performance\n",
    "mse = mean_squared_error(y_test, y_pred)\n",
    "rmse = np.sqrt(mse)\n",
    "print(f\"Root Mean Squared Error (RMSE): {rmse}\")\n",
    "\n",
    "# Predict crop yield for new data (replace with new input values)\n",
    "# For new data, make sure it's in the same encoded format\n",
    "new_data = np.array([[150.0, 25.0] + [0]*len([col for col in X.columns if col.startswith(('region_', 'soil_type_', 'crop_'))])])  # Example input\n",
    "predicted_yield = model.predict(new_data)\n",
    "print(f\"Predicted Crop Yield: {predicted_yield[0]}\")\n"
   ]
  },
  {
   "cell_type": "code",
   "execution_count": null,
   "id": "cd0fa983-82fd-46c3-be40-36b3c01f66f9",
   "metadata": {},
   "outputs": [],
   "source": []
  },
  {
   "cell_type": "code",
   "execution_count": null,
   "id": "ad5b572b-9365-48e8-8236-136c565363fa",
   "metadata": {},
   "outputs": [],
   "source": []
  },
  {
   "cell_type": "code",
   "execution_count": null,
   "id": "77745252-6a30-453d-9664-0b19ac874ec4",
   "metadata": {},
   "outputs": [],
   "source": []
  }
 ],
 "metadata": {
  "kernelspec": {
   "display_name": "Python 3 (ipykernel)",
   "language": "python",
   "name": "python3"
  },
  "language_info": {
   "codemirror_mode": {
    "name": "ipython",
    "version": 3
   },
   "file_extension": ".py",
   "mimetype": "text/x-python",
   "name": "python",
   "nbconvert_exporter": "python",
   "pygments_lexer": "ipython3",
   "version": "3.10.12"
  }
 },
 "nbformat": 4,
 "nbformat_minor": 5
}
